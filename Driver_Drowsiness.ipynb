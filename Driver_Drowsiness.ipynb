{
  "nbformat": 4,
  "nbformat_minor": 0,
  "metadata": {
    "colab": {
      "provenance": []
    },
    "kernelspec": {
      "name": "python3",
      "display_name": "Python 3"
    },
    "language_info": {
      "name": "python"
    }
  },
  "cells": [
    {
      "cell_type": "markdown",
      "source": [
        "# **Driver Drowsiness Detection**"
      ],
      "metadata": {
        "id": "2kY6RP06Ql8f"
      }
    },
    {
      "cell_type": "code",
      "execution_count": null,
      "metadata": {
        "colab": {
          "base_uri": "https://localhost:8080/"
        },
        "id": "hSvvF0gaqYaK",
        "outputId": "747d0ac4-4f87-4c6b-aff4-d2ac183d91aa"
      },
      "outputs": [
        {
          "output_type": "stream",
          "name": "stdout",
          "text": [
            "Drive already mounted at /content/drive; to attempt to forcibly remount, call drive.mount(\"/content/drive\", force_remount=True).\n"
          ]
        }
      ],
      "source": [
        "from google.colab import drive\n",
        "drive.mount('/content/drive')"
      ]
    },
    {
      "cell_type": "code",
      "source": [
        "import cv2\n",
        "import os\n",
        "import numpy as np\n",
        "from tqdm import tqdm"
      ],
      "metadata": {
        "id": "DtcqdBhVqk86"
      },
      "execution_count": null,
      "outputs": []
    },
    {
      "cell_type": "code",
      "source": [
        "train_dir = '/content/drive/MyDrive/dataset_new/train/'\n",
        "test_dir = '/content/drive/MyDrive/dataset_new/test/'"
      ],
      "metadata": {
        "id": "U1-khM3er1FW"
      },
      "execution_count": null,
      "outputs": []
    },
    {
      "cell_type": "code",
      "source": [
        "def load_images(directory):\n",
        "    images = []\n",
        "    labels = []\n",
        "\n",
        "    for category in os.listdir(directory):\n",
        "        for filename in tqdm(os.listdir(os.path.join(directory, category))):\n",
        "            image_path = os.path.join(directory, category, filename)\n",
        "            image = cv2.imread(image_path)\n",
        "            image = cv2.cvtColor(image, cv2.COLOR_BGR2RGB)\n",
        "            image = cv2.resize(image, (224, 224))\n",
        "            images.append(image)\n",
        "            labels.append(category)\n",
        "\n",
        "    images = np.array(images, dtype='float32')\n",
        "    return images, labels"
      ],
      "metadata": {
        "id": "r3O3JkF2r82L"
      },
      "execution_count": null,
      "outputs": []
    },
    {
      "cell_type": "code",
      "source": [
        "train_images, train_labels = load_images(train_dir)"
      ],
      "metadata": {
        "colab": {
          "base_uri": "https://localhost:8080/"
        },
        "id": "uSTWecd3sBCZ",
        "outputId": "dea4fdd0-b371-45d4-e48a-cd906a766c5c"
      },
      "execution_count": null,
      "outputs": [
        {
          "output_type": "stream",
          "name": "stderr",
          "text": [
            "100%|██████████| 617/617 [00:09<00:00, 63.38it/s] \n",
            "100%|██████████| 617/617 [00:09<00:00, 66.87it/s] \n",
            "100%|██████████| 616/616 [00:14<00:00, 42.40it/s] \n",
            "100%|██████████| 617/617 [00:11<00:00, 53.34it/s] \n"
          ]
        }
      ]
    },
    {
      "cell_type": "code",
      "source": [
        "test_images, test_labels = load_images(test_dir)"
      ],
      "metadata": {
        "colab": {
          "base_uri": "https://localhost:8080/"
        },
        "id": "NWDnHoSNsZZZ",
        "outputId": "d413559b-f694-4220-c6dc-f1ae32196b5f"
      },
      "execution_count": null,
      "outputs": [
        {
          "output_type": "stream",
          "name": "stderr",
          "text": [
            "100%|██████████| 109/109 [00:01<00:00, 66.45it/s]\n",
            "100%|██████████| 109/109 [00:01<00:00, 66.24it/s] \n",
            "100%|██████████| 109/109 [00:02<00:00, 50.31it/s]\n",
            "100%|██████████| 106/106 [00:02<00:00, 48.30it/s]\n"
          ]
        }
      ]
    },
    {
      "cell_type": "code",
      "source": [
        "x_train, y_train = load_images(train_dir)\n",
        "x_test, y_test = load_images(test_dir)"
      ],
      "metadata": {
        "colab": {
          "base_uri": "https://localhost:8080/"
        },
        "id": "KeFmLnPoslA3",
        "outputId": "490080c5-757d-4d71-85a5-c08d1c5cc1d7"
      },
      "execution_count": null,
      "outputs": [
        {
          "output_type": "stream",
          "name": "stderr",
          "text": [
            "100%|██████████| 617/617 [00:03<00:00, 172.45it/s]\n",
            "100%|██████████| 617/617 [00:04<00:00, 131.74it/s]\n",
            "100%|██████████| 616/616 [00:05<00:00, 104.90it/s]\n",
            "100%|██████████| 617/617 [00:06<00:00, 93.92it/s]\n",
            "100%|██████████| 109/109 [00:00<00:00, 127.72it/s]\n",
            "100%|██████████| 109/109 [00:00<00:00, 152.65it/s]\n",
            "100%|██████████| 109/109 [00:00<00:00, 109.57it/s]\n",
            "100%|██████████| 106/106 [00:01<00:00, 104.25it/s]\n"
          ]
        }
      ]
    },
    {
      "cell_type": "code",
      "source": [
        "x_train = x_train / 255.\n",
        "x_test = x_test / 255."
      ],
      "metadata": {
        "id": "7qyXkhD8sxT2"
      },
      "execution_count": null,
      "outputs": []
    },
    {
      "cell_type": "code",
      "source": [
        "from PIL import Image\n",
        "import pandas as pd\n",
        "import seaborn as sns\n",
        "import matplotlib.pyplot as plt\n",
        "import tensorflow as tf\n",
        "%matplotlib inline\n",
        "import warnings\n",
        "warnings.filterwarnings('ignore')\n",
        "from tqdm.notebook import tqdm\n",
        "from keras.models import Sequential, load_model\n",
        "from keras.layers import Conv2D, MaxPooling2D, Dense, Flatten, Dropout, BatchNormalization\n",
        "from sklearn.preprocessing import LabelEncoder\n",
        "from tensorflow.keras.utils import to_categorical\n",
        "from keras.callbacks import EarlyStopping, ReduceLROnPlateau, ModelCheckpoint"
      ],
      "metadata": {
        "id": "XpmubWAatAxo"
      },
      "execution_count": null,
      "outputs": []
    },
    {
      "cell_type": "code",
      "source": [
        "encoder = LabelEncoder()\n",
        "y_train = encoder.fit_transform(y_train)\n",
        "y_test = encoder.transform(y_test)\n",
        "y_train = to_categorical(y_train)\n",
        "y_test = to_categorical(y_test)"
      ],
      "metadata": {
        "id": "TchYZg27tiic"
      },
      "execution_count": null,
      "outputs": []
    },
    {
      "cell_type": "code",
      "source": [
        "cnn = Sequential()\n",
        "\n",
        "cnn.add(Conv2D(filters=16,kernel_size=3,activation='relu',input_shape=(224,224,3)))\n",
        "cnn.add(MaxPooling2D(pool_size=2))\n",
        "\n",
        "cnn.add(Conv2D(filters=32,kernel_size=3,activation='relu',padding='same'))\n",
        "cnn.add(MaxPooling2D(pool_size=2))\n",
        "cnn.add(BatchNormalization())\n",
        "cnn.add(Dropout(0.5))\n",
        "\n",
        "cnn.add(Conv2D(filters=64,kernel_size=3,activation='relu'))\n",
        "cnn.add(MaxPooling2D(pool_size=2))\n",
        "cnn.add(BatchNormalization())\n",
        "cnn.add(Dropout(0.2))\n",
        "\n",
        "cnn.add(Conv2D(filters=128,kernel_size=3,activation='relu'))\n",
        "cnn.add(MaxPooling2D(pool_size=2))\n",
        "cnn.add(BatchNormalization())\n",
        "cnn.add(Dropout(0.25))\n",
        "\n",
        "cnn.add(Flatten())\n",
        "\n",
        "cnn.add(Dense(units=128,activation='relu'))\n",
        "cnn.add(BatchNormalization())\n",
        "cnn.add(Dropout(0.25))\n",
        "\n",
        "cnn.add(Dense(units=4,activation='softmax'))"
      ],
      "metadata": {
        "id": "qqGyFkQhtoD9"
      },
      "execution_count": null,
      "outputs": []
    },
    {
      "cell_type": "code",
      "source": [
        "cnn.summary()"
      ],
      "metadata": {
        "colab": {
          "base_uri": "https://localhost:8080/"
        },
        "id": "IH4kBa5Ct7ue",
        "outputId": "bdeb80e7-3de4-4569-b695-8af576281f04"
      },
      "execution_count": null,
      "outputs": [
        {
          "output_type": "stream",
          "name": "stdout",
          "text": [
            "Model: \"sequential\"\n",
            "_________________________________________________________________\n",
            " Layer (type)                Output Shape              Param #   \n",
            "=================================================================\n",
            " conv2d (Conv2D)             (None, 222, 222, 16)      448       \n",
            "                                                                 \n",
            " max_pooling2d (MaxPooling2D  (None, 111, 111, 16)     0         \n",
            " )                                                               \n",
            "                                                                 \n",
            " conv2d_1 (Conv2D)           (None, 111, 111, 32)      4640      \n",
            "                                                                 \n",
            " max_pooling2d_1 (MaxPooling  (None, 55, 55, 32)       0         \n",
            " 2D)                                                             \n",
            "                                                                 \n",
            " batch_normalization (BatchN  (None, 55, 55, 32)       128       \n",
            " ormalization)                                                   \n",
            "                                                                 \n",
            " dropout (Dropout)           (None, 55, 55, 32)        0         \n",
            "                                                                 \n",
            " conv2d_2 (Conv2D)           (None, 53, 53, 64)        18496     \n",
            "                                                                 \n",
            " max_pooling2d_2 (MaxPooling  (None, 26, 26, 64)       0         \n",
            " 2D)                                                             \n",
            "                                                                 \n",
            " batch_normalization_1 (Batc  (None, 26, 26, 64)       256       \n",
            " hNormalization)                                                 \n",
            "                                                                 \n",
            " dropout_1 (Dropout)         (None, 26, 26, 64)        0         \n",
            "                                                                 \n",
            " conv2d_3 (Conv2D)           (None, 24, 24, 128)       73856     \n",
            "                                                                 \n",
            " max_pooling2d_3 (MaxPooling  (None, 12, 12, 128)      0         \n",
            " 2D)                                                             \n",
            "                                                                 \n",
            " batch_normalization_2 (Batc  (None, 12, 12, 128)      512       \n",
            " hNormalization)                                                 \n",
            "                                                                 \n",
            " dropout_2 (Dropout)         (None, 12, 12, 128)       0         \n",
            "                                                                 \n",
            " flatten (Flatten)           (None, 18432)             0         \n",
            "                                                                 \n",
            " dense (Dense)               (None, 128)               2359424   \n",
            "                                                                 \n",
            " batch_normalization_3 (Batc  (None, 128)              512       \n",
            " hNormalization)                                                 \n",
            "                                                                 \n",
            " dropout_3 (Dropout)         (None, 128)               0         \n",
            "                                                                 \n",
            " dense_1 (Dense)             (None, 4)                 516       \n",
            "                                                                 \n",
            "=================================================================\n",
            "Total params: 2,458,788\n",
            "Trainable params: 2,458,084\n",
            "Non-trainable params: 704\n",
            "_________________________________________________________________\n"
          ]
        }
      ]
    },
    {
      "cell_type": "code",
      "source": [
        "cnn.compile(loss='categorical_crossentropy',optimizer='adam',metrics='accuracy')"
      ],
      "metadata": {
        "id": "om1_F5xYuBD7"
      },
      "execution_count": null,
      "outputs": []
    },
    {
      "cell_type": "code",
      "source": [
        "early_stopping = EarlyStopping(monitor='val_accuracy',patience=20,mode='max',verbose=1,restore_best_weights=True)\n",
        "reduce_lr = ReduceLROnPlateau(monitor='val_accuracy',patience=5,mode='max',verbose=1,factor=0.1,min_lr=0.001)\n",
        "checkpoint_filename = 'checkpoint/'\n",
        "model_checkpoint = ModelCheckpoint(filepath=checkpoint_filename,monitor='val_accuracy',verbose=1,save_best_only=True,save_weights_only=True,mode='max')\n",
        "\n",
        "r = cnn.fit(x=x_train,\n",
        "            y=y_train,\n",
        "            epochs=20,\n",
        "            batch_size=32,\n",
        "            validation_data=(x_test,y_test),\n",
        "            callbacks=[early_stopping,reduce_lr,model_checkpoint])"
      ],
      "metadata": {
        "colab": {
          "base_uri": "https://localhost:8080/"
        },
        "id": "Ozp_aibKuEoN",
        "outputId": "19434606-1536-46f6-9396-9fe4eb143013"
      },
      "execution_count": null,
      "outputs": [
        {
          "output_type": "stream",
          "name": "stdout",
          "text": [
            "Epoch 1/20\n",
            "78/78 [==============================] - ETA: 0s - loss: 0.5745 - accuracy: 0.7491\n",
            "Epoch 1: val_accuracy improved from -inf to 0.25173, saving model to checkpoint/\n",
            "78/78 [==============================] - 190s 2s/step - loss: 0.5745 - accuracy: 0.7491 - val_loss: 4.5052 - val_accuracy: 0.2517 - lr: 0.0010\n",
            "Epoch 2/20\n",
            "78/78 [==============================] - ETA: 0s - loss: 0.4040 - accuracy: 0.8030\n",
            "Epoch 2: val_accuracy did not improve from 0.25173\n",
            "78/78 [==============================] - 179s 2s/step - loss: 0.4040 - accuracy: 0.8030 - val_loss: 5.2593 - val_accuracy: 0.2517 - lr: 0.0010\n",
            "Epoch 3/20\n",
            "78/78 [==============================] - ETA: 0s - loss: 0.3429 - accuracy: 0.8452\n",
            "Epoch 3: val_accuracy improved from 0.25173 to 0.47806, saving model to checkpoint/\n",
            "78/78 [==============================] - 180s 2s/step - loss: 0.3429 - accuracy: 0.8452 - val_loss: 4.0444 - val_accuracy: 0.4781 - lr: 0.0010\n",
            "Epoch 4/20\n",
            "78/78 [==============================] - ETA: 0s - loss: 0.2916 - accuracy: 0.8715\n",
            "Epoch 4: val_accuracy did not improve from 0.47806\n",
            "78/78 [==============================] - 179s 2s/step - loss: 0.2916 - accuracy: 0.8715 - val_loss: 4.7746 - val_accuracy: 0.4018 - lr: 0.0010\n",
            "Epoch 5/20\n",
            "78/78 [==============================] - ETA: 0s - loss: 0.2297 - accuracy: 0.9011\n",
            "Epoch 5: val_accuracy did not improve from 0.47806\n",
            "78/78 [==============================] - 179s 2s/step - loss: 0.2297 - accuracy: 0.9011 - val_loss: 3.8178 - val_accuracy: 0.2725 - lr: 0.0010\n",
            "Epoch 6/20\n",
            "78/78 [==============================] - ETA: 0s - loss: 0.2031 - accuracy: 0.9133\n",
            "Epoch 6: val_accuracy did not improve from 0.47806\n",
            "78/78 [==============================] - 175s 2s/step - loss: 0.2031 - accuracy: 0.9133 - val_loss: 4.5958 - val_accuracy: 0.3533 - lr: 0.0010\n",
            "Epoch 7/20\n",
            "78/78 [==============================] - ETA: 0s - loss: 0.2021 - accuracy: 0.9201\n",
            "Epoch 7: val_accuracy did not improve from 0.47806\n",
            "78/78 [==============================] - 179s 2s/step - loss: 0.2021 - accuracy: 0.9201 - val_loss: 3.5590 - val_accuracy: 0.3972 - lr: 0.0010\n",
            "Epoch 8/20\n",
            "78/78 [==============================] - ETA: 0s - loss: 0.1435 - accuracy: 0.9518\n",
            "Epoch 8: val_accuracy improved from 0.47806 to 0.57968, saving model to checkpoint/\n",
            "78/78 [==============================] - 174s 2s/step - loss: 0.1435 - accuracy: 0.9518 - val_loss: 1.0852 - val_accuracy: 0.5797 - lr: 0.0010\n",
            "Epoch 9/20\n",
            "78/78 [==============================] - ETA: 0s - loss: 0.1889 - accuracy: 0.9222\n",
            "Epoch 9: val_accuracy improved from 0.57968 to 0.90069, saving model to checkpoint/\n",
            "78/78 [==============================] - 180s 2s/step - loss: 0.1889 - accuracy: 0.9222 - val_loss: 0.2733 - val_accuracy: 0.9007 - lr: 0.0010\n",
            "Epoch 10/20\n",
            "78/78 [==============================] - ETA: 0s - loss: 0.1583 - accuracy: 0.9392\n",
            "Epoch 10: val_accuracy improved from 0.90069 to 0.95150, saving model to checkpoint/\n",
            "78/78 [==============================] - 176s 2s/step - loss: 0.1583 - accuracy: 0.9392 - val_loss: 0.1532 - val_accuracy: 0.9515 - lr: 0.0010\n",
            "Epoch 11/20\n",
            "78/78 [==============================] - ETA: 0s - loss: 0.1642 - accuracy: 0.9424\n",
            "Epoch 11: val_accuracy did not improve from 0.95150\n",
            "78/78 [==============================] - 180s 2s/step - loss: 0.1642 - accuracy: 0.9424 - val_loss: 0.2535 - val_accuracy: 0.9030 - lr: 0.0010\n",
            "Epoch 12/20\n",
            "78/78 [==============================] - ETA: 0s - loss: 0.0984 - accuracy: 0.9668\n",
            "Epoch 12: val_accuracy did not improve from 0.95150\n",
            "78/78 [==============================] - 177s 2s/step - loss: 0.0984 - accuracy: 0.9668 - val_loss: 0.5572 - val_accuracy: 0.7667 - lr: 0.0010\n",
            "Epoch 13/20\n",
            "78/78 [==============================] - ETA: 0s - loss: 0.0881 - accuracy: 0.9696\n",
            "Epoch 13: val_accuracy did not improve from 0.95150\n",
            "78/78 [==============================] - 177s 2s/step - loss: 0.0881 - accuracy: 0.9696 - val_loss: 0.1909 - val_accuracy: 0.9376 - lr: 0.0010\n",
            "Epoch 14/20\n",
            "78/78 [==============================] - ETA: 0s - loss: 0.2561 - accuracy: 0.9007\n",
            "Epoch 14: val_accuracy did not improve from 0.95150\n",
            "78/78 [==============================] - 175s 2s/step - loss: 0.2561 - accuracy: 0.9007 - val_loss: 0.3732 - val_accuracy: 0.8614 - lr: 0.0010\n",
            "Epoch 15/20\n",
            "78/78 [==============================] - ETA: 0s - loss: 0.1409 - accuracy: 0.9485\n",
            "Epoch 15: val_accuracy did not improve from 0.95150\n",
            "78/78 [==============================] - 177s 2s/step - loss: 0.1409 - accuracy: 0.9485 - val_loss: 0.1811 - val_accuracy: 0.9145 - lr: 0.0010\n",
            "Epoch 16/20\n",
            "78/78 [==============================] - ETA: 0s - loss: 0.1340 - accuracy: 0.9485\n",
            "Epoch 16: val_accuracy improved from 0.95150 to 0.96536, saving model to checkpoint/\n",
            "78/78 [==============================] - 178s 2s/step - loss: 0.1340 - accuracy: 0.9485 - val_loss: 0.1113 - val_accuracy: 0.9654 - lr: 0.0010\n",
            "Epoch 17/20\n",
            "78/78 [==============================] - ETA: 0s - loss: 0.0719 - accuracy: 0.9761\n",
            "Epoch 17: val_accuracy did not improve from 0.96536\n",
            "78/78 [==============================] - 176s 2s/step - loss: 0.0719 - accuracy: 0.9761 - val_loss: 0.1936 - val_accuracy: 0.9307 - lr: 0.0010\n",
            "Epoch 18/20\n",
            "78/78 [==============================] - ETA: 0s - loss: 0.0847 - accuracy: 0.9712\n",
            "Epoch 18: val_accuracy did not improve from 0.96536\n",
            "78/78 [==============================] - 179s 2s/step - loss: 0.0847 - accuracy: 0.9712 - val_loss: 0.0995 - val_accuracy: 0.9607 - lr: 0.0010\n",
            "Epoch 19/20\n",
            "78/78 [==============================] - ETA: 0s - loss: 0.0716 - accuracy: 0.9724\n",
            "Epoch 19: val_accuracy did not improve from 0.96536\n",
            "78/78 [==============================] - 177s 2s/step - loss: 0.0716 - accuracy: 0.9724 - val_loss: 0.1490 - val_accuracy: 0.9538 - lr: 0.0010\n",
            "Epoch 20/20\n",
            "78/78 [==============================] - ETA: 0s - loss: 0.0624 - accuracy: 0.9785\n",
            "Epoch 20: val_accuracy did not improve from 0.96536\n",
            "78/78 [==============================] - 183s 2s/step - loss: 0.0624 - accuracy: 0.9785 - val_loss: 0.1568 - val_accuracy: 0.9307 - lr: 0.0010\n"
          ]
        }
      ]
    },
    {
      "cell_type": "code",
      "source": [
        "plt.figure(figsize=(12,8))\n",
        "plt.plot(r.history['loss'],'r',label='train loss')\n",
        "plt.plot(r.history['val_loss'],'b',label='test loss')\n",
        "plt.xlabel('Number of Epochs')\n",
        "plt.ylabel('Loss')\n",
        "plt.title('Loss Graph')\n",
        "plt.legend();"
      ],
      "metadata": {
        "colab": {
          "base_uri": "https://localhost:8080/",
          "height": 718
        },
        "id": "ePL6SdBUCf2F",
        "outputId": "6206934c-509f-479d-ecf9-6d74ad2a63fc"
      },
      "execution_count": null,
      "outputs": [
        {
          "output_type": "display_data",
          "data": {
            "text/plain": [
              "<Figure size 1200x800 with 1 Axes>"
            ],
            "image/png": "[encoded data removed]"
          },
          "metadata": {}
        }
      ]
    },
    {
      "cell_type": "code",
      "source": [
        "plt.figure(figsize=(12,8))\n",
        "plt.plot(r.history['accuracy'],'r',label='train accuracy')\n",
        "plt.plot(r.history['val_accuracy'],'b',label='test accuracy')\n",
        "plt.xlabel('Number of Epochs')\n",
        "plt.ylabel('Accuracy')\n",
        "plt.title('Accuracy Graph')\n",
        "plt.legend();"
      ],
      "metadata": {
        "colab": {
          "base_uri": "https://localhost:8080/",
          "height": 718
        },
        "id": "4gGMNWi3Cmqd",
        "outputId": "81c0d4dc-2934-4e8c-e566-27874dd737d2"
      },
      "execution_count": null,
      "outputs": [
        {
          "output_type": "display_data",
          "data": {
            "text/plain": [
              "<Figure size 1200x800 with 1 Axes>"
            ],
            "image/png": "[encoded data removed]"
          },
          "metadata": {}
        }
      ]
    },
    {
      "cell_type": "code",
      "source": [
        "cnn.save(filepath='drowsiness_detector.model',save_format='h5')\n",
        "model = load_model(filepath='drowsiness_detector.model')\n",
        "model"
      ],
      "metadata": {
        "id": "qjkbRrWtC13Z"
      },
      "execution_count": null,
      "outputs": []
    },
    {
      "cell_type": "code",
      "source": [
        "scores=model.evaluate(x_train, y_train)"
      ],
      "metadata": {
        "id": "3kfXaWRxC8tR",
        "colab": {
          "base_uri": "https://localhost:8080/"
        },
        "outputId": "cd821c64-18a5-4cbf-c010-d0d1ea13971a"
      },
      "execution_count": null,
      "outputs": [
        {
          "output_type": "stream",
          "name": "stdout",
          "text": [
            "78/78 [==============================] - 49s 603ms/step - loss: 0.0823 - accuracy: 0.9720\n"
          ]
        }
      ]
    },
    {
      "cell_type": "code",
      "source": [
        "print(scores)"
      ],
      "metadata": {
        "colab": {
          "base_uri": "https://localhost:8080/"
        },
        "id": "kDKzvrCvuPCY",
        "outputId": "72fd4351-8390-4491-ef9f-4dd8581f13af"
      },
      "execution_count": null,
      "outputs": [
        {
          "output_type": "stream",
          "name": "stdout",
          "text": [
            "[0.0823216587305069, 0.9720308184623718]\n"
          ]
        }
      ]
    },
    {
      "cell_type": "code",
      "source": [
        "history"
      ],
      "metadata": {
        "colab": {
          "base_uri": "https://localhost:8080/"
        },
        "id": "mFrJwYcZucVT",
        "outputId": "5bdf9a10-d51c-4fce-9032-3588e44fb517"
      },
      "execution_count": null,
      "outputs": [
        {
          "output_type": "stream",
          "name": "stdout",
          "text": [
            "scores=model.evaluate(x_train)\n",
            "scores=cnn.evaluate(x_train)\n",
            "from google.colab import drive\n",
            "drive.mount('/content/drive')\n",
            "import cv2\n",
            "import os\n",
            "import numpy as np\n",
            "from tqdm import tqdm\n",
            "train_dir = '/content/drive/MyDrive/dataset_new/train/'\n",
            "test_dir = '/content/drive/MyDrive/dataset_new/test/'\n",
            "def load_images(directory):\n",
            "    images = []\n",
            "    labels = []\n",
            "\n",
            "    for category in os.listdir(directory):\n",
            "        for filename in tqdm(os.listdir(os.path.join(directory, category))):\n",
            "            image_path = os.path.join(directory, category, filename)\n",
            "            image = cv2.imread(image_path)\n",
            "            image = cv2.cvtColor(image, cv2.COLOR_BGR2RGB)\n",
            "            image = cv2.resize(image, (224, 224))\n",
            "            images.append(image)\n",
            "            labels.append(category)\n",
            "\n",
            "    images = np.array(images, dtype='float32')\n",
            "    return images, labels\n",
            "train_images, train_labels = load_images(train_dir)\n",
            "test_images, test_labels = load_images(test_dir)\n",
            "x_train, y_train = load_images(train_dir)\n",
            "x_test, y_test = load_images(test_dir)\n",
            "x_train = x_train / 255.\n",
            "x_test = x_test / 255.\n",
            "from PIL import Image\n",
            "import pandas as pd\n",
            "import seaborn as sns\n",
            "import matplotlib.pyplot as plt\n",
            "import tensorflow as tf\n",
            "%matplotlib inline\n",
            "import warnings\n",
            "warnings.filterwarnings('ignore')\n",
            "from tqdm.notebook import tqdm\n",
            "from keras.models import Sequential, load_model\n",
            "from keras.layers import Conv2D, MaxPooling2D, Dense, Flatten, Dropout, BatchNormalization\n",
            "from sklearn.preprocessing import LabelEncoder\n",
            "from tensorflow.keras.utils import to_categorical\n",
            "from keras.callbacks import EarlyStopping, ReduceLROnPlateau, ModelCheckpoint\n",
            "encoder = LabelEncoder()\n",
            "y_train = encoder.fit_transform(y_train)\n",
            "y_test = encoder.transform(y_test)\n",
            "y_train = to_categorical(y_train)\n",
            "y_test = to_categorical(y_test)\n",
            "cnn = Sequential()\n",
            "\n",
            "cnn.add(Conv2D(filters=16,kernel_size=3,activation='relu',input_shape=(224,224,3)))\n",
            "cnn.add(MaxPooling2D(pool_size=2))\n",
            "\n",
            "cnn.add(Conv2D(filters=32,kernel_size=3,activation='relu',padding='same'))\n",
            "cnn.add(MaxPooling2D(pool_size=2))\n",
            "cnn.add(BatchNormalization())\n",
            "cnn.add(Dropout(0.5))\n",
            "\n",
            "cnn.add(Conv2D(filters=64,kernel_size=3,activation='relu'))\n",
            "cnn.add(MaxPooling2D(pool_size=2))\n",
            "cnn.add(BatchNormalization())\n",
            "cnn.add(Dropout(0.2))\n",
            "\n",
            "cnn.add(Conv2D(filters=128,kernel_size=3,activation='relu'))\n",
            "cnn.add(MaxPooling2D(pool_size=2))\n",
            "cnn.add(BatchNormalization())\n",
            "cnn.add(Dropout(0.25))\n",
            "\n",
            "cnn.add(Flatten())\n",
            "\n",
            "cnn.add(Dense(units=128,activation='relu'))\n",
            "cnn.add(BatchNormalization())\n",
            "cnn.add(Dropout(0.25))\n",
            "\n",
            "cnn.add(Dense(units=4,activation='softmax'))\n",
            "cnn.summary()\n",
            "cnn.compile(loss='categorical_crossentropy',optimizer='adam',metrics='accuracy')\n",
            "early_stopping = EarlyStopping(monitor='val_accuracy',patience=20,mode='max',verbose=1,restore_best_weights=True)\n",
            "reduce_lr = ReduceLROnPlateau(monitor='val_accuracy',patience=5,mode='max',verbose=1,factor=0.1,min_lr=0.001)\n",
            "checkpoint_filename = 'checkpoint/'\n",
            "model_checkpoint = ModelCheckpoint(filepath=checkpoint_filename,monitor='val_accuracy',verbose=1,save_best_only=True,save_weights_only=True,mode='max')\n",
            "\n",
            "r = cnn.fit(x=x_train,\n",
            "            y=y_train,\n",
            "            epochs=20,\n",
            "            batch_size=32,\n",
            "            validation_data=(x_test,y_test),\n",
            "            callbacks=[early_stopping,reduce_lr,model_checkpoint])\n",
            "plt.figure(figsize=(12,8))\n",
            "plt.plot(r.history['loss'],'r',label='train loss')\n",
            "plt.plot(r.history['val_loss'],'b',label='test loss')\n",
            "plt.xlabel('Number of Epochs')\n",
            "plt.ylabel('Loss')\n",
            "plt.title('Loss Graph')\n",
            "plt.legend();\n",
            "plt.figure(figsize=(12,8))\n",
            "plt.plot(r.history['accuracy'],'r',label='train accuracy')\n",
            "plt.plot(r.history['val_accuracy'],'b',label='test accuracy')\n",
            "plt.xlabel('Number of Epochs')\n",
            "plt.ylabel('Accuracy')\n",
            "plt.title('Accuracy Graph')\n",
            "plt.legend();\n",
            "cnn.save(filepath='drowsiness_detector.model',save_format='h5')\n",
            "model = load_model(filepath='drowsiness_detector.model')\n",
            "model\n",
            "scores=cnn.evaluate(x_train)\n",
            "scores=model.evaluate(x_train)\n",
            "scores=model.evaluate(x_train, y_train)\n",
            "history\n",
            "print(scores)\n",
            "history.params\n",
            "history\n"
          ]
        }
      ]
    },
    {
      "cell_type": "code",
      "source": [
        "import numpy as np\n",
        "import matplotlib.pyplot as plt\n",
        "from sklearn.metrics import confusion_matrix\n",
        "\n",
        "# Make predictions\n",
        "y_pred = cnn.predict(x_test)\n",
        "y_pred_labels = np.argmax(y_pred, axis=1)\n",
        "y_true_labels = np.argmax(y_test, axis=1)\n",
        "\n",
        "# Calculate confusion matrix\n",
        "cm = confusion_matrix(y_true_labels, y_pred_labels)\n",
        "\n",
        "# Visualize confusion matrix\n",
        "plt.figure(figsize=(8, 6))\n",
        "sns.heatmap(cm, annot=True, fmt=\"d\", cmap=\"Blues\", cbar=False)\n",
        "plt.title(\"Confusion Matrix\")\n",
        "plt.xlabel(\"Predicted Labels\")\n",
        "plt.ylabel(\"True Labels\")\n",
        "plt.show()\n"
      ],
      "metadata": {
        "colab": {
          "base_uri": "https://localhost:8080/",
          "height": 581
        },
        "id": "mWXJnZPWxeRQ",
        "outputId": "e6eb2e7f-a9a7-4248-8d1b-72cd48ace419"
      },
      "execution_count": null,
      "outputs": [
        {
          "output_type": "stream",
          "name": "stdout",
          "text": [
            "14/14 [==============================] - 17s 1s/step\n"
          ]
        },
        {
          "output_type": "display_data",
          "data": {
            "text/plain": [
              "<Figure size 800x600 with 1 Axes>"
            ],
            "image/png": "[encoded data removed]"
          },
          "metadata": {}
        }
      ]
    },
    {
      "cell_type": "code",
      "source": [
        "from sklearn.metrics import precision_score, recall_score, f1_score\n",
        "\n",
        "# Calculate precision, recall, and F1-score\n",
        "precision = precision_score(y_true_labels, y_pred_labels, average='macro')\n",
        "recall = recall_score(y_true_labels, y_pred_labels, average='macro')\n",
        "f1 = f1_score(y_true_labels, y_pred_labels, average='macro')\n",
        "\n",
        "print(\"Precision: {:.4f}\".format(precision))\n",
        "print(\"Recall: {:.4f}\".format(recall))\n",
        "print(\"F1-score: {:.4f}\".format(f1))\n"
      ],
      "metadata": {
        "colab": {
          "base_uri": "https://localhost:8080/"
        },
        "id": "SZ_-WEGOPHaT",
        "outputId": "0b6ce30a-7d90-4702-c104-477cbbbb85a4"
      },
      "execution_count": null,
      "outputs": [
        {
          "output_type": "stream",
          "name": "stdout",
          "text": [
            "Precision: 0.9347\n",
            "Recall: 0.9305\n",
            "F1-score: 0.9311\n"
          ]
        }
      ]
    },
    {
      "cell_type": "code",
      "source": [
        "from sklearn.metrics import accuracy_score\n",
        "\n",
        "# Calculate accuracy\n",
        "accuracy = accuracy_score(y_true_labels, y_pred_labels)\n",
        "\n",
        "print(\"Accuracy: {:.4f}\".format(accuracy))"
      ],
      "metadata": {
        "colab": {
          "base_uri": "https://localhost:8080/"
        },
        "id": "ZzqBKuz0PWTv",
        "outputId": "7435e14f-871a-4155-abe1-53f519baf7ae"
      },
      "execution_count": null,
      "outputs": [
        {
          "output_type": "stream",
          "name": "stdout",
          "text": [
            "Accuracy: 0.9307\n"
          ]
        }
      ]
    },
    {
      "cell_type": "code",
      "source": [
        "epoch_accuracies = []  # List to store accuracy of each epoch\n",
        "\n",
        "# Loop over 20 epochs\n",
        "for epoch in range(20):\n",
        "    # Perform training and evaluation for the current epoch\n",
        "    # ...\n",
        "\n",
        "    # Calculate accuracy for the current epoch\n",
        "    accuracy = accuracy_score(y_true_labels, y_pred_labels)\n",
        "    epoch_accuracies.append(accuracy)  # Append accuracy to the list\n",
        "\n",
        "# Calculate the average accuracy\n",
        "average_accuracy = sum(epoch_accuracies) / len(epoch_accuracies)\n",
        "\n",
        "print(\"Average Accuracy: {:.4f}\".format(average_accuracy))\n"
      ],
      "metadata": {
        "colab": {
          "base_uri": "https://localhost:8080/"
        },
        "id": "thOMbUuzPh1P",
        "outputId": "ebf82d9a-e516-4231-cec1-a0697622f356"
      },
      "execution_count": null,
      "outputs": [
        {
          "output_type": "stream",
          "name": "stdout",
          "text": [
            "Average Accuracy: 0.9307\n"
          ]
        }
      ]
    },
    {
      "cell_type": "code",
      "source": [],
      "metadata": {
        "id": "0HxiUlcOQj0f"
      },
      "execution_count": null,
      "outputs": []
    },
    {
      "cell_type": "code",
      "source": [],
      "metadata": {
        "id": "JSTzr7fZQj5S"
      },
      "execution_count": null,
      "outputs": []
    }
  ]
}